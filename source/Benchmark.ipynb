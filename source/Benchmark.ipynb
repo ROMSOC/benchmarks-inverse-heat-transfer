{
 "cells": [
  {
   "cell_type": "markdown",
   "id": "495d660a-78a9-40a8-934f-2d5a436a0a18",
   "metadata": {},
   "source": [
    "## Benchmarls in inverse heat transfer\n",
    "### Boundary heat flux estimation in continuous casting molds\n",
    "Benchmak case for the boundary heat flux estimation in a continuous casting mold given pointwise temeprature measurements: solving the inverse problem of estimating the boundary ehat flux in a continuous casting mold. The considered domain is a simplification of a continuous casting mold."
   ]
  },
  {
   "cell_type": "markdown",
   "id": "86fce5f3-8503-4b60-b1d3-4b5dc4fa2a2b",
   "metadata": {},
   "source": [
    "This benchmark is part of one of the tutorials of the ITHACA-FV solver"
   ]
  },
  {
   "cell_type": "code",
   "execution_count": 1,
   "id": "7d0121e8-bf4c-456d-bce2-62c4f95df701",
   "metadata": {},
   "outputs": [
    {
     "name": "stdout",
     "output_type": "stream",
     "text": [
      "/usr/lib/ITHACA-FV/tutorials/inverseHeatTransfer/IHTP01inverseLaplacian\n"
     ]
    }
   ],
   "source": [
    "cd /usr/lib/ITHACA-FV/tutorials/inverseHeatTransfer/IHTP01inverseLaplacian/"
   ]
  },
  {
   "cell_type": "markdown",
   "id": "2dc05e07-496a-40ad-9363-01eb78edbb3e",
   "metadata": {},
   "source": [
    "Use bash shell to compile the benchmark code with ``wmake`` utility"
   ]
  },
  {
   "cell_type": "code",
   "execution_count": null,
   "id": "1e68fd51-cf76-4305-bb53-74b98b4078c6",
   "metadata": {},
   "outputs": [
    {
     "name": "stdout",
     "output_type": "stream",
     "text": [
      "To run a command as administrator (user \"root\"), use \"sudo <command>\".\n",
      "See \"man sudo_root\" for details.\n",
      "\n",
      "\u001b[01;32mithacafv\u001b[00m:\u001b[01;34m/usr/lib/ITHACA-FV/tutorials/inverseHeatTransfer/IHTP01inverseLaplacian\u001b[01;31m(master)\u001b[00m$ "
     ]
    }
   ],
   "source": [
    "!/usr/bin/bash"
   ]
  },
  {
   "cell_type": "code",
   "execution_count": null,
   "id": "1b0faf96-6748-46ef-804b-ee78a61e287e",
   "metadata": {},
   "outputs": [],
   "source": [
    "!wmake"
   ]
  },
  {
   "cell_type": "markdown",
   "id": "42ff9a97-0782-477d-9b85-0e9eedccc6af",
   "metadata": {},
   "source": []
  },
  {
   "cell_type": "code",
   "execution_count": null,
   "id": "1c9562d2-4b11-4cfe-9cd3-f01bb41c4b0a",
   "metadata": {},
   "outputs": [],
   "source": [
    "cd caseDir/"
   ]
  },
  {
   "cell_type": "code",
   "execution_count": null,
   "id": "56360332-02ff-424f-a69c-1d4629f4b8d7",
   "metadata": {},
   "outputs": [],
   "source": [
    "!/home/ithacafv/OpenFOAM/ithacafv-v2106/platforms/linux64GccDPInt32Opt/bin/IHTP01inverseLaplacian"
   ]
  }
 ],
 "metadata": {
  "kernelspec": {
   "display_name": "Python 3 (ipykernel)",
   "language": "python",
   "name": "python3"
  },
  "language_info": {
   "codemirror_mode": {
    "name": "ipython",
    "version": 3
   },
   "file_extension": ".py",
   "mimetype": "text/x-python",
   "name": "python",
   "nbconvert_exporter": "python",
   "pygments_lexer": "ipython3",
   "version": "3.8.10"
  }
 },
 "nbformat": 4,
 "nbformat_minor": 5
}
